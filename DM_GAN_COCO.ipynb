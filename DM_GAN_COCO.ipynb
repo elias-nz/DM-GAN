{
  "nbformat": 4,
  "nbformat_minor": 0,
  "metadata": {
    "colab": {
      "provenance": [],
      "gpuType": "T4",
      "mount_file_id": "1r83F03OXfvP94Y-XKypLT8xh2qyJU3FX",
      "authorship_tag": "ABX9TyMTWwmb51jOIVg2L5AxwOsc",
      "include_colab_link": true
    },
    "kernelspec": {
      "name": "python3",
      "display_name": "Python 3"
    },
    "language_info": {
      "name": "python"
    },
    "accelerator": "GPU"
  },
  "cells": [
    {
      "cell_type": "markdown",
      "metadata": {
        "id": "view-in-github",
        "colab_type": "text"
      },
      "source": [
        "<a href=\"https://colab.research.google.com/github/elias-nz/DM-GAN/blob/main/DM_GAN_COCO.ipynb\" target=\"_parent\"><img src=\"https://colab.research.google.com/assets/colab-badge.svg\" alt=\"Open In Colab\"/></a>"
      ]
    },
    {
      "cell_type": "code",
      "source": [
        "\n",
        "!git clone https://github.com/MinfengZhu/DM-GAN"
      ],
      "metadata": {
        "colab": {
          "base_uri": "https://localhost:8080/"
        },
        "id": "1y8BlgPHKUtK",
        "outputId": "662b1e23-fcd2-41f0-8510-8f16f2ef3a1b"
      },
      "execution_count": 1,
      "outputs": [
        {
          "output_type": "stream",
          "name": "stdout",
          "text": [
            "Cloning into 'DM-GAN'...\n",
            "remote: Enumerating objects: 90, done.\u001b[K\n",
            "remote: Total 90 (delta 0), reused 0 (delta 0), pack-reused 90\u001b[K\n",
            "Unpacking objects: 100% (90/90), 84.39 KiB | 2.81 MiB/s, done.\n"
          ]
        }
      ]
    },
    {
      "cell_type": "code",
      "execution_count": 2,
      "metadata": {
        "colab": {
          "base_uri": "https://localhost:8080/"
        },
        "id": "pmP_SmTCJ_e5",
        "outputId": "972eda8d-51ca-4b7c-bf3e-23a08baa2c26"
      },
      "outputs": [
        {
          "output_type": "stream",
          "name": "stdout",
          "text": [
            "Downloading...\n",
            "From: https://drive.google.com/uc?id=1rSnbIGNDGZeHlsUlLdahj0RJ9oo6lgH9\n",
            "To: /content/coco.zip\n",
            "100% 33.3M/33.3M [00:00<00:00, 56.9MB/s]\n"
          ]
        }
      ],
      "source": [
        "!gdown 1rSnbIGNDGZeHlsUlLdahj0RJ9oo6lgH9"
      ]
    },
    {
      "cell_type": "code",
      "source": [
        "!mkdir /content/DM-GAN/data\n",
        "%cd /content/DM-GAN/data"
      ],
      "metadata": {
        "colab": {
          "base_uri": "https://localhost:8080/"
        },
        "id": "zPiAHBPOKaEd",
        "outputId": "7c6594c4-d126-4d91-ec1c-1c770d2e7849"
      },
      "execution_count": 3,
      "outputs": [
        {
          "output_type": "stream",
          "name": "stdout",
          "text": [
            "/content/DM-GAN/data\n"
          ]
        }
      ]
    },
    {
      "cell_type": "code",
      "source": [
        "!unzip /content/coco.zip -d /content/DM-GAN/data"
      ],
      "metadata": {
        "colab": {
          "base_uri": "https://localhost:8080/"
        },
        "id": "CtrKxT7pKjdd",
        "outputId": "98b49fca-f44f-43ba-cc32-4131e03ada77"
      },
      "execution_count": 4,
      "outputs": [
        {
          "output_type": "stream",
          "name": "stdout",
          "text": [
            "Archive:  /content/coco.zip\n",
            "   creating: /content/DM-GAN/data/coco/\n",
            "  inflating: /content/DM-GAN/data/coco/.DS_Store  \n",
            "   creating: /content/DM-GAN/data/__MACOSX/\n",
            "   creating: /content/DM-GAN/data/__MACOSX/coco/\n",
            "  inflating: /content/DM-GAN/data/__MACOSX/coco/._.DS_Store  \n",
            "  inflating: /content/DM-GAN/data/coco/captions.pickle  \n",
            "  inflating: /content/DM-GAN/data/coco/example_captions.txt  \n",
            "  inflating: /content/DM-GAN/data/__MACOSX/coco/._example_captions.txt  \n",
            "  inflating: /content/DM-GAN/data/coco/example_filenames.txt  \n",
            "  inflating: /content/DM-GAN/data/__MACOSX/coco/._example_filenames.txt  \n",
            "  inflating: /content/DM-GAN/data/coco/interpolate_captions.txt  \n",
            "  inflating: /content/DM-GAN/data/coco/readme.txt  \n",
            "  inflating: /content/DM-GAN/data/__MACOSX/coco/._readme.txt  \n",
            "   creating: /content/DM-GAN/data/coco/test/\n",
            "  inflating: /content/DM-GAN/data/coco/test/.DS_Store  \n",
            "   creating: /content/DM-GAN/data/__MACOSX/coco/test/\n",
            "  inflating: /content/DM-GAN/data/__MACOSX/coco/test/._.DS_Store  \n",
            "  inflating: /content/DM-GAN/data/coco/test/filenames.pickle  \n",
            "   creating: /content/DM-GAN/data/coco/train/\n",
            "  inflating: /content/DM-GAN/data/coco/train/.DS_Store  \n",
            "   creating: /content/DM-GAN/data/__MACOSX/coco/train/\n",
            "  inflating: /content/DM-GAN/data/__MACOSX/coco/train/._.DS_Store  \n",
            "  inflating: /content/DM-GAN/data/coco/train/filenames.pickle  \n",
            "  inflating: /content/DM-GAN/data/coco/train2014-text.zip  \n",
            "  inflating: /content/DM-GAN/data/coco/val2014-text.zip  \n"
          ]
        }
      ]
    },
    {
      "cell_type": "code",
      "source": [
        "!rm -rf /content/coco.zip"
      ],
      "metadata": {
        "id": "HQdDHmowE3qf"
      },
      "execution_count": 5,
      "outputs": []
    },
    {
      "cell_type": "code",
      "source": [
        "%cd /content/DM-GAN/data/coco"
      ],
      "metadata": {
        "colab": {
          "base_uri": "https://localhost:8080/"
        },
        "id": "Lfs6WAk2Knc_",
        "outputId": "c2d03795-88b2-4cc7-d2e4-29554946abeb"
      },
      "execution_count": 6,
      "outputs": [
        {
          "output_type": "stream",
          "name": "stdout",
          "text": [
            "/content/DM-GAN/data/coco\n"
          ]
        }
      ]
    },
    {
      "cell_type": "code",
      "source": [
        "!wget http://images.cocodataset.org/zips/train2014.zip"
      ],
      "metadata": {
        "colab": {
          "base_uri": "https://localhost:8080/"
        },
        "id": "nQObHAWaKvgb",
        "outputId": "da6b87b2-f5ed-4374-c8c9-0b64ec709331"
      },
      "execution_count": null,
      "outputs": [
        {
          "output_type": "stream",
          "name": "stdout",
          "text": [
            "--2023-06-23 16:31:00--  http://images.cocodataset.org/zips/train2014.zip\n",
            "Resolving images.cocodataset.org (images.cocodataset.org)... 54.231.230.97, 52.217.17.100, 52.216.43.153, ...\n",
            "Connecting to images.cocodataset.org (images.cocodataset.org)|54.231.230.97|:80... connected.\n",
            "HTTP request sent, awaiting response... 200 OK\n",
            "Length: 13510573713 (13G) [application/zip]\n",
            "Saving to: ‘train2014.zip’\n",
            "\n",
            "train2014.zip        26%[====>               ]   3.39G  33.2MB/s    eta 4m 45s "
          ]
        }
      ]
    },
    {
      "cell_type": "code",
      "source": [
        "!unzip train2014.zip"
      ],
      "metadata": {
        "id": "0jkspKC9KySx"
      },
      "execution_count": null,
      "outputs": []
    },
    {
      "cell_type": "code",
      "source": [
        "!rm -r /content/DM-GAN/data/coco/train2014.zip"
      ],
      "metadata": {
        "id": "9Wok1u41K7m3"
      },
      "execution_count": null,
      "outputs": []
    },
    {
      "cell_type": "code",
      "source": [
        "!wget http://images.cocodataset.org/zips/val2014.zip"
      ],
      "metadata": {
        "id": "50YQOn-5L5qT"
      },
      "execution_count": null,
      "outputs": []
    },
    {
      "cell_type": "code",
      "source": [
        "!unzip val2014.zip"
      ],
      "metadata": {
        "id": "0CFVh5bLL5BB"
      },
      "execution_count": null,
      "outputs": []
    },
    {
      "cell_type": "code",
      "source": [
        "!rm -r /content/DM-GAN/data/coco/val2014.zip"
      ],
      "metadata": {
        "id": "hKe61t-pMEgl"
      },
      "execution_count": null,
      "outputs": []
    },
    {
      "cell_type": "code",
      "source": [
        "!mv train2014 images"
      ],
      "metadata": {
        "id": "xi8p0lTgSfIt"
      },
      "execution_count": null,
      "outputs": []
    },
    {
      "cell_type": "code",
      "source": [
        "!cp val2014/* images"
      ],
      "metadata": {
        "id": "mPYqydpRSnBV"
      },
      "execution_count": null,
      "outputs": []
    },
    {
      "cell_type": "code",
      "source": [
        "!unzip /content/DM-GAN/data/coco/train2014-text.zip"
      ],
      "metadata": {
        "id": "ImcnsfKISoEt"
      },
      "execution_count": null,
      "outputs": []
    },
    {
      "cell_type": "code",
      "source": [
        "%cd /content/DM-GAN/DAMSMencoders"
      ],
      "metadata": {
        "id": "Fr64Svg8S4Kj"
      },
      "execution_count": null,
      "outputs": []
    },
    {
      "cell_type": "code",
      "source": [
        "!gdown 1zIrXCE9F6yfbEJIbNP5-YrEe2pZcPSGJ"
      ],
      "metadata": {
        "id": "uPP5fD59TZJc"
      },
      "execution_count": null,
      "outputs": []
    },
    {
      "cell_type": "code",
      "source": [
        "!unzip /content/DM-GAN/DAMSMencoders/coco.zip"
      ],
      "metadata": {
        "id": "w-iFdXlCTdIT"
      },
      "execution_count": null,
      "outputs": []
    },
    {
      "cell_type": "code",
      "source": [
        "%cd /content/DM-GAN/models"
      ],
      "metadata": {
        "id": "4Qbti06PTiMN"
      },
      "execution_count": null,
      "outputs": []
    },
    {
      "cell_type": "code",
      "source": [
        "!gdown 1tQ9CJNiLlRLBKSUKHXKYms2tbfzllyO-"
      ],
      "metadata": {
        "id": "VsJbx8tYTnMf"
      },
      "execution_count": null,
      "outputs": []
    },
    {
      "cell_type": "code",
      "source": [
        "%cd /content/DM-GAN/eval/FID\n",
        "!gdown 10NYi4XU3_bLjPEAg5KQal-l8A_d8lnL5"
      ],
      "metadata": {
        "id": "ID5A7hmYTzHv"
      },
      "execution_count": null,
      "outputs": []
    },
    {
      "cell_type": "code",
      "source": [
        "%cd ./../../"
      ],
      "metadata": {
        "id": "hVn4_yIvUFp6"
      },
      "execution_count": null,
      "outputs": []
    },
    {
      "cell_type": "code",
      "source": [
        "!rm -rf /content/DM-GAN/code\n",
        "!cp -r /content/drive/MyDrive/DM-GAN/code /content/DM-GAN/\n",
        "%cd /content/DM-GAN/code"
      ],
      "metadata": {
        "id": "tdbcnW3SIaUQ"
      },
      "execution_count": null,
      "outputs": []
    },
    {
      "cell_type": "markdown",
      "source": [
        "Default Max Epoch 200\n"
      ],
      "metadata": {
        "id": "YWgWCaImm_5i"
      }
    },
    {
      "cell_type": "code",
      "source": [
        "!python main.py --cfg cfg/coco_DMGAN.yml --gpu 0 --data_dir='/content/DM-GAN/data/coco'"
      ],
      "metadata": {
        "id": "zuQye0jfUKvl"
      },
      "execution_count": null,
      "outputs": []
    },
    {
      "cell_type": "code",
      "source": [
        "!python main.py --cfg cfg/eval_coco.yml --gpu 0"
      ],
      "metadata": {
        "colab": {
          "base_uri": "https://localhost:8080/"
        },
        "id": "S0CjG9Y-ZWK4",
        "outputId": "3ef3ac8f-25f9-4eed-975e-6086cf74ea7a"
      },
      "execution_count": null,
      "outputs": [
        {
          "output_type": "stream",
          "name": "stdout",
          "text": [
            "Using config:\n",
            "{'B_VALIDATION': True,\n",
            " 'CONFIG_NAME': 'DMGAN',\n",
            " 'CUDA': True,\n",
            " 'DATASET_NAME': 'coco',\n",
            " 'DATA_DIR': '../data/coco',\n",
            " 'GAN': {'B_ATTENTION': True,\n",
            "         'B_DCGAN': False,\n",
            "         'CONDITION_DIM': 100,\n",
            "         'DF_DIM': 32,\n",
            "         'GF_DIM': 64,\n",
            "         'R_NUM': 3,\n",
            "         'Z_DIM': 100},\n",
            " 'GPU_ID': 0,\n",
            " 'RNN_TYPE': 'LSTM',\n",
            " 'TEXT': {'CAPTIONS_PER_IMAGE': 5, 'EMBEDDING_DIM': 256, 'WORDS_NUM': 20},\n",
            " 'TRAIN': {'BATCH_SIZE': 10,\n",
            "           'B_NET_D': False,\n",
            "           'DISCRIMINATOR_LR': 0.0002,\n",
            "           'ENCODER_LR': 0.0002,\n",
            "           'FLAG': False,\n",
            "           'GENERATOR_LR': 0.0002,\n",
            "           'MAX_EPOCH': 600,\n",
            "           'NET_E': '../DAMSMencoders/coco/text_encoder100.pth',\n",
            "           'NET_G': '../models/coco_DMGAN.pth',\n",
            "           'RNN_GRAD_CLIP': 0.25,\n",
            "           'SMOOTH': {'GAMMA1': 5.0,\n",
            "                      'GAMMA2': 5.0,\n",
            "                      'GAMMA3': 10.0,\n",
            "                      'LAMBDA': 1.0},\n",
            "           'SNAPSHOT_INTERVAL': 2000},\n",
            " 'TREE': {'BASE_SIZE': 64, 'BRANCH_NUM': 3},\n",
            " 'WORKERS': 0}\n",
            "Seed: 100\n",
            "Load filenames from: ../data/coco/train/filenames.pickle (82783)\n",
            "Load filenames from: ../data/coco/test/filenames.pickle (40470)\n",
            "Load from:  ../data/coco/captions.pickle\n",
            "/usr/local/lib/python3.10/dist-packages/torch/nn/modules/rnn.py:71: UserWarning: dropout option adds dropout after all but last recurrent layer, so non-zero dropout expects num_layers greater than 1, but got dropout=0.5 and num_layers=1\n",
            "  warnings.warn(\"dropout option adds dropout after all but last \"\n",
            "Load text encoder from: ../DAMSMencoders/coco/text_encoder100.pth\n",
            "/usr/local/lib/python3.10/dist-packages/torchvision/models/inception.py:43: FutureWarning: The default weight initialization of inception_v3 will be changed in future releases of torchvision. If you wish to keep the old behavior (which leads to long initialization times due to scipy/scipy#11299), please set init_weights=True.\n",
            "  warnings.warn(\n",
            "Load pretrained model from  https://download.pytorch.org/models/inception_v3_google-1a9a5a14.pth\n",
            "Load image encoder from: ../DAMSMencoders/coco/image_encoder100.pth\n",
            "/content/DM-GAN/code/trainer.py:403: UserWarning: volatile was removed and now has no effect. Use `with torch.no_grad():` instead.\n",
            "  noise = Variable(torch.FloatTensor(batch_size, nz), volatile=True)\n",
            "Load G from:  ../models/coco_DMGAN.pth\n",
            "cnt:  10\n",
            "cnt:  1010\n",
            "cnt:  2010\n",
            "cnt:  3010\n",
            "cnt:  4010\n",
            "cnt:  5010\n",
            "cnt:  6010\n",
            "cnt:  7010\n",
            "cnt:  8010\n",
            "cnt:  9010\n",
            "cnt:  10010\n",
            "cnt:  11010\n",
            "cnt:  12010\n",
            "cnt:  13010\n",
            "cnt:  14010\n",
            "cnt:  15010\n",
            "cnt:  16010\n",
            "cnt:  17010\n",
            "cnt:  18010\n",
            "cnt:  19010\n",
            "cnt:  20010\n",
            "cnt:  21010\n",
            "cnt:  22010\n",
            "cnt:  23010\n",
            "cnt:  24010\n",
            "cnt:  25010\n",
            "cnt:  26010\n",
            "cnt:  27010\n",
            "cnt:  28010\n",
            "cnt:  29010\n",
            "R mean:0.9205 std:0.0052\n",
            "Total time for training: 2160.373477458954\n"
          ]
        }
      ]
    },
    {
      "cell_type": "code",
      "source": [
        "%cd /content/DM-GAN/eval/IS/coco"
      ],
      "metadata": {
        "colab": {
          "base_uri": "https://localhost:8080/"
        },
        "id": "EZCX4qgMSFqK",
        "outputId": "23f49de1-f886-404e-887d-d7588df3e6c8"
      },
      "execution_count": null,
      "outputs": [
        {
          "output_type": "stream",
          "name": "stdout",
          "text": [
            "/content/DM-GAN/eval/IS/coco\n",
            "inception_score_coco.py\n"
          ]
        }
      ]
    },
    {
      "cell_type": "code",
      "source": [
        "!python inception_score_coco.py ../../../models/coco_DMGAN"
      ],
      "metadata": {
        "colab": {
          "base_uri": "https://localhost:8080/"
        },
        "id": "eMiD2LH7SN2b",
        "outputId": "56eb2039-2862-41c1-f214-82ccea94d0a3"
      },
      "execution_count": null,
      "outputs": [
        {
          "output_type": "stream",
          "name": "stdout",
          "text": [
            "2023-05-07 00:14:20.003539: I tensorflow/core/platform/cpu_feature_guard.cc:182] This TensorFlow binary is optimized to use available CPU instructions in performance-critical operations.\n",
            "To enable the following instructions: AVX2 FMA, in other operations, rebuild TensorFlow with the appropriate compiler flags.\n",
            "2023-05-07 00:14:22.054346: W tensorflow/compiler/tf2tensorrt/utils/py_utils.cc:38] TF-TRT Warning: Could not find TensorRT\n",
            "WARNING:tensorflow:From /content/DM-GAN/eval/IS/coco/inception_score_coco.py:77: FastGFile.__init__ (from tensorflow.python.platform.gfile) is deprecated and will be removed in a future version.\n",
            "Instructions for updating:\n",
            "Use tf.gfile.GFile.\n",
            "2023-05-07 00:14:26.865165: W tensorflow/core/framework/op_def_util.cc:369] Op BatchNormWithGlobalNormalization is deprecated. It will cease to work in GraphDef version 9. Use tf.nn.batch_normalization().\n",
            "2023-05-07 00:14:27.064461: I tensorflow/compiler/xla/stream_executor/cuda/cuda_gpu_executor.cc:996] successful NUMA node read from SysFS had negative value (-1), but there must be at least one NUMA node, so returning NUMA node zero. See more at https://github.com/torvalds/linux/blob/v6.0/Documentation/ABI/testing/sysfs-bus-pci#L344-L355\n",
            "2023-05-07 00:14:27.619728: I tensorflow/compiler/xla/stream_executor/cuda/cuda_gpu_executor.cc:996] successful NUMA node read from SysFS had negative value (-1), but there must be at least one NUMA node, so returning NUMA node zero. See more at https://github.com/torvalds/linux/blob/v6.0/Documentation/ABI/testing/sysfs-bus-pci#L344-L355\n",
            "2023-05-07 00:14:27.620033: I tensorflow/compiler/xla/stream_executor/cuda/cuda_gpu_executor.cc:996] successful NUMA node read from SysFS had negative value (-1), but there must be at least one NUMA node, so returning NUMA node zero. See more at https://github.com/torvalds/linux/blob/v6.0/Documentation/ABI/testing/sysfs-bus-pci#L344-L355\n",
            "2023-05-07 00:14:30.248990: I tensorflow/compiler/xla/stream_executor/cuda/cuda_gpu_executor.cc:996] successful NUMA node read from SysFS had negative value (-1), but there must be at least one NUMA node, so returning NUMA node zero. See more at https://github.com/torvalds/linux/blob/v6.0/Documentation/ABI/testing/sysfs-bus-pci#L344-L355\n",
            "2023-05-07 00:14:30.249348: I tensorflow/compiler/xla/stream_executor/cuda/cuda_gpu_executor.cc:996] successful NUMA node read from SysFS had negative value (-1), but there must be at least one NUMA node, so returning NUMA node zero. See more at https://github.com/torvalds/linux/blob/v6.0/Documentation/ABI/testing/sysfs-bus-pci#L344-L355\n",
            "2023-05-07 00:14:30.249571: I tensorflow/compiler/xla/stream_executor/cuda/cuda_gpu_executor.cc:996] successful NUMA node read from SysFS had negative value (-1), but there must be at least one NUMA node, so returning NUMA node zero. See more at https://github.com/torvalds/linux/blob/v6.0/Documentation/ABI/testing/sysfs-bus-pci#L344-L355\n",
            "2023-05-07 00:14:30.249734: I tensorflow/core/common_runtime/gpu/gpu_device.cc:1635] Created device /job:localhost/replica:0/task:0/device:GPU:0 with 13678 MB memory:  -> device: 0, name: Tesla T4, pci bus id: 0000:00:04.0, compute capability: 7.5\n",
            "Traceback (most recent call last):\n",
            "  File \"/content/DM-GAN/eval/IS/coco/inception_score_coco.py\", line 105, in <module>\n",
            "    _init_inception()\n",
            "  File \"/content/DM-GAN/eval/IS/coco/inception_score_coco.py\", line 91, in _init_inception\n",
            "    shape = [s.value for s in shape]\n",
            "  File \"/content/DM-GAN/eval/IS/coco/inception_score_coco.py\", line 91, in <listcomp>\n",
            "    shape = [s.value for s in shape]\n",
            "AttributeError: 'NoneType' object has no attribute 'value'\n"
          ]
        }
      ]
    },
    {
      "cell_type": "code",
      "source": [
        "!rm -r /content/DM-GAN/data"
      ],
      "metadata": {
        "id": "11rk0NiMStck"
      },
      "execution_count": null,
      "outputs": []
    },
    {
      "cell_type": "code",
      "source": [
        "!cp -ru /content/DM-GAN /content/drive/MyDrive/"
      ],
      "metadata": {
        "id": "9ddOX4IYU7PG"
      },
      "execution_count": null,
      "outputs": []
    },
    {
      "cell_type": "code",
      "source": [],
      "metadata": {
        "id": "mZssSoycVKeg"
      },
      "execution_count": null,
      "outputs": []
    }
  ]
}